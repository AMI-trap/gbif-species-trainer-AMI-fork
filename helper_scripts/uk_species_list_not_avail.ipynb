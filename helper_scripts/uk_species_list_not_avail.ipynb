{
 "cells": [
  {
   "cell_type": "markdown",
   "metadata": {},
   "source": [
    "See which species the GBIF API fails to return. Then manually try closest match names that you get from manual search of that species."
   ]
  },
  {
   "cell_type": "code",
   "execution_count": 1,
   "metadata": {},
   "outputs": [
    {
     "name": "stderr",
     "output_type": "stream",
     "text": [
      "INFO:Note: NumExpr detected 10 cores but \"NUMEXPR_MAX_THREADS\" not set, so enforcing safe limit of 8.\n",
      "INFO:NumExpr defaulting to 8 threads.\n"
     ]
    }
   ],
   "source": [
    "from pygbif import occurrences as occ\n",
    "from pygbif import species as species_api\n",
    "import pandas as pd\n",
    "import os\n",
    "import tqdm\n",
    "import urllib\n",
    "import json\n",
    "import time\n",
    "import argparse"
   ]
  },
  {
   "cell_type": "code",
   "execution_count": 20,
   "metadata": {},
   "outputs": [],
   "source": [
    "# name = 'Macaria notata Linnaeus'\n",
    "name = 'Xanthorhoe ferrugata'"
   ]
  },
  {
   "cell_type": "code",
   "execution_count": 21,
   "metadata": {},
   "outputs": [],
   "source": [
    "data = species_api.name_backbone(name=name, strict=True, rank=\"species\")\n"
   ]
  },
  {
   "cell_type": "code",
   "execution_count": 22,
   "metadata": {},
   "outputs": [
    {
     "data": {
      "text/plain": [
       "{'usageKey': 1986081,\n",
       " 'scientificName': 'Xanthorhoe Hübner',\n",
       " 'canonicalName': 'Xanthorhoe',\n",
       " 'rank': 'GENUS',\n",
       " 'status': 'ACCEPTED',\n",
       " 'confidence': 98,\n",
       " 'matchType': 'HIGHERRANK',\n",
       " 'kingdom': 'Animalia',\n",
       " 'phylum': 'Arthropoda',\n",
       " 'order': 'Lepidoptera',\n",
       " 'family': 'Geometridae',\n",
       " 'genus': 'Xanthorhoe',\n",
       " 'kingdomKey': 1,\n",
       " 'phylumKey': 54,\n",
       " 'classKey': 216,\n",
       " 'orderKey': 797,\n",
       " 'familyKey': 6950,\n",
       " 'genusKey': 1986081,\n",
       " 'synonym': False,\n",
       " 'class': 'Insecta'}"
      ]
     },
     "execution_count": 22,
     "metadata": {},
     "output_type": "execute_result"
    }
   ],
   "source": [
    "data"
   ]
  },
  {
   "cell_type": "code",
   "execution_count": null,
   "metadata": {},
   "outputs": [],
   "source": []
  }
 ],
 "metadata": {
  "kernelspec": {
   "display_name": "base",
   "language": "python",
   "name": "python3"
  },
  "language_info": {
   "codemirror_mode": {
    "name": "ipython",
    "version": 3
   },
   "file_extension": ".py",
   "mimetype": "text/x-python",
   "name": "python",
   "nbconvert_exporter": "python",
   "pygments_lexer": "ipython3",
   "version": "3.9.16"
  },
  "orig_nbformat": 4
 },
 "nbformat": 4,
 "nbformat_minor": 2
}
