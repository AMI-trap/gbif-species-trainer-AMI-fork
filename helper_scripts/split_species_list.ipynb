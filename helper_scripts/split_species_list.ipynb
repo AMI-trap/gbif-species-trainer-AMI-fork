{
 "cells": [
  {
   "cell_type": "code",
   "execution_count": 14,
   "id": "485e1776-b540-4619-8f86-bbab13cfe316",
   "metadata": {},
   "outputs": [],
   "source": [
    "import os\n",
    "import pandas as pd"
   ]
  },
  {
   "cell_type": "code",
   "execution_count": 15,
   "id": "262a451f-d1d6-42a4-9000-5fc9b6dd64ba",
   "metadata": {},
   "outputs": [],
   "source": [
    "home_dir = \"/bask/projects/v/vjgo8416-amber/projects/gbif-species-trainer-AMI-fork/\"\n",
    "data_dir = \"/bask/projects/v/vjgo8416-amber/data/gbif-species-trainer-AMI-fork/\""
   ]
  },
  {
   "cell_type": "code",
   "execution_count": 16,
   "id": "8f454cc4-f15a-47a6-b68a-37dee852800e",
   "metadata": {},
   "outputs": [],
   "source": [
    "data_stats   = pd.read_csv(os.path.join(data_dir,\"gbif_images\",\"try_wrapper\",\"data_statistics.csv\"))\n",
    "species_list = pd.read_csv(os.path.join(home_dir,\"data_download\",\"uksi-macro-moths-keys.csv\"))"
   ]
  },
  {
   "cell_type": "code",
   "execution_count": 17,
   "id": "e02d2b85-fd3b-4e42-b705-257630334b1e",
   "metadata": {},
   "outputs": [],
   "source": [
    "# Get only Noctuidae\n",
    "data_stats   = data_stats[data_stats[\"family_name\"] == \"Noctuidae\"]\n",
    "species_list = species_list[species_list[\"family_name\"] == \"Noctuidae\"]"
   ]
  },
  {
   "cell_type": "code",
   "execution_count": 18,
   "id": "970a783a-f94b-4afa-91f1-5368d2ad5f97",
   "metadata": {},
   "outputs": [
    {
     "data": {
      "text/plain": [
       "(215, 6)"
      ]
     },
     "execution_count": 18,
     "metadata": {},
     "output_type": "execute_result"
    }
   ],
   "source": [
    "data_stats.shape"
   ]
  },
  {
   "cell_type": "code",
   "execution_count": 19,
   "id": "c46104ad-d50e-4e64-a9c0-a1f580050d73",
   "metadata": {},
   "outputs": [
    {
     "data": {
      "text/plain": [
       "(412, 11)"
      ]
     },
     "execution_count": 19,
     "metadata": {},
     "output_type": "execute_result"
    }
   ],
   "source": [
    "species_list.shape"
   ]
  },
  {
   "cell_type": "code",
   "execution_count": 20,
   "id": "ef8d9369-cfa5-42fd-8d76-85bb80d95fd7",
   "metadata": {},
   "outputs": [],
   "source": [
    "# Get a DF of Noctuidae in species_list thats not in data_stats\n",
    "species_list_remaining = species_list[~species_list[\"gbif_species_name\"].isin(data_stats[\"gbif_species_name\"])]"
   ]
  },
  {
   "cell_type": "code",
   "execution_count": 21,
   "id": "edbe5c46-9cf7-4849-bdde-5ddfbd5fe4e4",
   "metadata": {},
   "outputs": [
    {
     "data": {
      "text/plain": [
       "(194, 11)"
      ]
     },
     "execution_count": 21,
     "metadata": {},
     "output_type": "execute_result"
    }
   ],
   "source": [
    "species_list_remaining.shape"
   ]
  },
  {
   "cell_type": "code",
   "execution_count": 22,
   "id": "d825dee6-4c7a-41ae-8cf8-e7e207bb2f2d",
   "metadata": {},
   "outputs": [],
   "source": [
    "# Now, split in 4 and save\n",
    "species_list_remaining = species_list_remaining.reset_index(drop=True)\n",
    "\n",
    "slr1 = species_list_remaining.iloc[:48,:]\n",
    "slr2 = species_list_remaining.iloc[48:95,:]\n",
    "slr3 = species_list_remaining.iloc[95:143,:]\n",
    "slr4 = species_list_remaining.iloc[143:,:]"
   ]
  },
  {
   "cell_type": "code",
   "execution_count": 23,
   "id": "4d91fedf-3442-4495-b184-e7f7a9860532",
   "metadata": {},
   "outputs": [],
   "source": [
    "slr1.to_csv(os.path.join(home_dir,\"data_download\",\"slr1.csv\"),index=False)\n",
    "slr2.to_csv(os.path.join(home_dir,\"data_download\",\"slr2.csv\"),index=False)\n",
    "slr3.to_csv(os.path.join(home_dir,\"data_download\",\"slr3.csv\"),index=False)\n",
    "slr4.to_csv(os.path.join(home_dir,\"data_download\",\"slr4.csv\"),index=False)\n",
    "species_list_remaining.to_csv(os.path.join(home_dir,\"data_download\",\"slr.csv\"),index=False)"
   ]
  },
  {
   "cell_type": "code",
   "execution_count": 38,
   "id": "0f529344-0447-4c18-957f-a94fbe2adabf",
   "metadata": {},
   "outputs": [
    {
     "data": {
      "text/plain": [
       "48.0"
      ]
     },
     "execution_count": 38,
     "metadata": {},
     "output_type": "execute_result"
    }
   ],
   "source": [
    "192/4"
   ]
  }
 ],
 "metadata": {
  "kernelspec": {
   "display_name": "gbif-species-trainer-AMI-fork (Conda)",
   "language": "python",
   "name": "sys_gbif-species-trainer-ami-fork"
  },
  "language_info": {
   "codemirror_mode": {
    "name": "ipython",
    "version": 3
   },
   "file_extension": ".py",
   "mimetype": "text/x-python",
   "name": "python",
   "nbconvert_exporter": "python",
   "pygments_lexer": "ipython3",
   "version": "3.8.16"
  }
 },
 "nbformat": 4,
 "nbformat_minor": 5
}
