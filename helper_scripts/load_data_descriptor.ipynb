{
 "cells": [
  {
   "cell_type": "markdown",
   "metadata": {},
   "source": [
    "Attempting to load the data descriptor for the occurrence text file."
   ]
  },
  {
   "cell_type": "code",
   "execution_count": 1,
   "metadata": {},
   "outputs": [],
   "source": [
    "import os\n",
    "import pandas as pd\n",
    "import sys\n",
    "from collections import Counter\n",
    "\n",
    "from dwca.read import DwCAReader\n",
    "from dwca.descriptors import shorten_term\n",
    "from dwca.darwincore.utils import qualname as qn"
   ]
  },
  {
   "cell_type": "code",
   "execution_count": 2,
   "metadata": {},
   "outputs": [],
   "source": [
    "home_dir = os.path.dirname(os.getcwd())\n",
    "data_dir = \"/Users/lbokeria/Documents/projects/gbif-species-trainer-data/\"\n",
    "\n",
    "family_name = \"Drepanidae\"\n",
    "\n",
    "dwca_file_path = os.path.join(data_dir,\"dwca_files\",family_name+\".zip\")\n",
    "occurrence_file_path = os.path.join(data_dir,\"dwca_files\",family_name,\"occurrence.txt\")"
   ]
  },
  {
   "cell_type": "code",
   "execution_count": 3,
   "metadata": {},
   "outputs": [
    {
     "name": "stderr",
     "output_type": "stream",
     "text": [
      "/var/folders/bf/8z6pr__14lq801rwlk2hx9r40000gr/T/ipykernel_7316/3366270270.py:11: DtypeWarning: Columns (2,9,26,35,39,42,46,47,54,56,57,58,59,60,61,62,64,65,66,67,68,69,70,71,74,75,76,77,78,79,82,84,85,86,87,88,89,90,91,92,93,96,97,98,99,100,101,102,103,109,110,111,113,114,115,116,117,118,119,121,122,123,125,126,127,128,129,130,132,135,136,142,143,144,145,147,148,149,150,151,161,170,171,172,173,174,175,176,178,179,180,181,183,185,186,187,189,190,191,192,193,195,207,210,211,212,214,215,227,243,247,249,250,251,252,253,254,255,256) have mixed types. Specify dtype option on import or set low_memory=False.\n",
      "  df1 = pd.read_csv(dwca.absolute_temporary_path(\"occurrence.txt\"), **kwargs)\n"
     ]
    }
   ],
   "source": [
    "kwargs = {}\n",
    "with DwCAReader(dwca_file_path) as dwca:\n",
    "    # Get the file descriptor\n",
    "    datafile_descriptor = dwca.get_descriptor_for(\"occurrence.txt\")\n",
    "    \n",
    "    kwargs['delimiter'] = datafile_descriptor.fields_terminated_by\n",
    "    kwargs['skiprows'] = datafile_descriptor.lines_to_ignore\n",
    "    kwargs['header'] = None\n",
    "    kwargs['names'] = datafile_descriptor.short_headers\n",
    "    \n",
    "    df1 = pd.read_csv(occurrence_file_path, **kwargs)\n",
    "    \n",
    "    # Add a column for default values, if present in the file descriptor\n",
    "    for field in datafile_descriptor.fields:\n",
    "        field_default_value = field['default']\n",
    "        if field_default_value is not None:\n",
    "            df1[shorten_term(field['term'])] = field_default_value"
   ]
  },
  {
   "cell_type": "code",
   "execution_count": 4,
   "metadata": {},
   "outputs": [
    {
     "name": "stderr",
     "output_type": "stream",
     "text": [
      "/Users/lbokeria/miniforge3/envs/gbif-species-trainer-AMI-fork/lib/python3.9/site-packages/dwca/read.py:203: DtypeWarning: Columns (2,9,26,35,39,42,46,47,54,56,57,58,59,60,61,62,64,65,66,67,68,69,70,71,74,75,76,77,78,79,82,84,85,86,87,88,89,90,91,92,93,96,97,98,99,100,101,102,103,109,110,111,113,114,115,116,117,118,119,121,122,123,125,126,127,128,129,130,132,135,136,142,143,144,145,147,148,149,150,151,161,170,171,172,173,174,175,176,178,179,180,181,183,185,186,187,189,190,191,192,193,195,207,210,211,212,214,215,227,243,247,249,250,251,252,253,254,255,256) have mixed types. Specify dtype option on import or set low_memory=False.\n",
      "  df = read_csv(self.absolute_temporary_path(relative_path), **kwargs)\n"
     ]
    }
   ],
   "source": [
    "# Read normally and compare\n",
    "with DwCAReader(dwca_file_path) as dwca:\n",
    "    df2 = dwca.pd_read(\"occurrence.txt\", parse_dates=True, on_bad_lines=\"skip\")"
   ]
  },
  {
   "cell_type": "code",
   "execution_count": 5,
   "metadata": {},
   "outputs": [
    {
     "data": {
      "text/html": [
       "<div>\n",
       "<style scoped>\n",
       "    .dataframe tbody tr th:only-of-type {\n",
       "        vertical-align: middle;\n",
       "    }\n",
       "\n",
       "    .dataframe tbody tr th {\n",
       "        vertical-align: top;\n",
       "    }\n",
       "\n",
       "    .dataframe thead tr th {\n",
       "        text-align: left;\n",
       "    }\n",
       "</style>\n",
       "<table border=\"1\" class=\"dataframe\">\n",
       "  <thead>\n",
       "  </thead>\n",
       "  <tbody>\n",
       "  </tbody>\n",
       "</table>\n",
       "</div>"
      ],
      "text/plain": [
       "Empty DataFrame\n",
       "Columns: []\n",
       "Index: []"
      ]
     },
     "execution_count": 5,
     "metadata": {},
     "output_type": "execute_result"
    }
   ],
   "source": [
    "# Compare the dfs\n",
    "\n",
    "df1.compare(df2)"
   ]
  }
 ],
 "metadata": {
  "kernelspec": {
   "display_name": "base",
   "language": "python",
   "name": "python3"
  },
  "language_info": {
   "codemirror_mode": {
    "name": "ipython",
    "version": 3
   },
   "file_extension": ".py",
   "mimetype": "text/x-python",
   "name": "python",
   "nbconvert_exporter": "python",
   "pygments_lexer": "ipython3",
   "version": "3.9.16"
  },
  "orig_nbformat": 4
 },
 "nbformat": 4,
 "nbformat_minor": 2
}
