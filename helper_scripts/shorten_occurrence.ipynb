{
 "cells": [
  {
   "cell_type": "markdown",
   "metadata": {},
   "source": [
    "Attempting to load the occurrence dataframe and make it smaller by retaining just the necessary columns."
   ]
  },
  {
   "cell_type": "code",
   "execution_count": 1,
   "metadata": {},
   "outputs": [],
   "source": [
    "import os\n",
    "import pandas as pd\n",
    "import sys\n",
    "from collections import Counter\n",
    "\n",
    "from dwca.read import DwCAReader\n",
    "from dwca.darwincore.utils import qualname as qn"
   ]
  },
  {
   "cell_type": "code",
   "execution_count": 3,
   "metadata": {},
   "outputs": [],
   "source": [
    "home_dir = os.path.dirname(os.getcwd())\n",
    "data_dir = \"/Users/lbokeria/Documents/projects/gbif-species-trainer-data/\"\n",
    "\n",
    "family_name = \"Sesiidae\"\n",
    "\n",
    "dwca_file_path       = os.path.join(data_dir,\"dwca_files\",family_name+\".zip\")\n",
    "occurrence_file_path = os.path.join(data_dir,\"dwca_files\",family_name,\"occurrence.txt\")\n",
    "\n",
    "# Remove the extra rows and compare the size\n",
    "fields_to_keep = [\n",
    "    \"id\",\n",
    "    \"decimalLatitude\",\n",
    "    \"decimalLongitude\",\n",
    "    \"order\",\n",
    "    \"family\",\n",
    "    \"genus\",\n",
    "    \"species\",\n",
    "    \"acceptedScientificName\",\n",
    "    \"year\",\n",
    "    \"month\",\n",
    "    \"day\",\n",
    "    \"datasetName\",\n",
    "    \"taxonID\",\n",
    "    \"acceptedTaxonKey\",\n",
    "    \"lifeStage\",\n",
    "    \"basisOfRecord\",\n",
    "]"
   ]
  },
  {
   "cell_type": "code",
   "execution_count": 4,
   "metadata": {},
   "outputs": [
    {
     "name": "stderr",
     "output_type": "stream",
     "text": [
      "/Users/lbokeria/miniforge3/envs/gbif-species-trainer-AMI-fork/lib/python3.9/site-packages/dwca/read.py:203: DtypeWarning: Columns (61,76,180) have mixed types. Specify dtype option on import or set low_memory=False.\n",
      "  df = read_csv(self.absolute_temporary_path(relative_path), **kwargs)\n"
     ]
    }
   ],
   "source": [
    "with DwCAReader(os.path.join(data_dir,\"dwca_files\",family_name+\".zip\")) as dwca:\n",
    "    occ_df = dwca.pd_read(\"occurrence.txt\", \n",
    "                          parse_dates=True, \n",
    "                          on_bad_lines=\"skip\",\n",
    "                          usecols=fields_to_keep)  "
   ]
  },
  {
   "cell_type": "code",
   "execution_count": 5,
   "metadata": {},
   "outputs": [
    {
     "name": "stdout",
     "output_type": "stream",
     "text": [
      "85.77149105072021\n"
     ]
    }
   ],
   "source": [
    "print(sys.getsizeof(occ_df)/1024/1024)"
   ]
  },
  {
   "cell_type": "code",
   "execution_count": 10,
   "metadata": {},
   "outputs": [],
   "source": [
    "# Save the DF\n",
    "occ_df.to_csv(os.path.join(data_dir,\"dwca_files\",\"occurrence_\"+family_name+\".csv\"),index=False)"
   ]
  },
  {
   "cell_type": "code",
   "execution_count": 11,
   "metadata": {},
   "outputs": [],
   "source": [
    "# Now load it again\n",
    "# occ_df_reload = pd.read_csv(os.path.join(data_dir,\"dwca_files\",\"occurrence_\"+family_name+\".csv\"))"
   ]
  },
  {
   "cell_type": "code",
   "execution_count": null,
   "metadata": {},
   "outputs": [],
   "source": [
    "# occ_df_reload.compare(occ_df)"
   ]
  }
 ],
 "metadata": {
  "kernelspec": {
   "display_name": "base",
   "language": "python",
   "name": "python3"
  },
  "language_info": {
   "codemirror_mode": {
    "name": "ipython",
    "version": 3
   },
   "file_extension": ".py",
   "mimetype": "text/x-python",
   "name": "python",
   "nbconvert_exporter": "python",
   "pygments_lexer": "ipython3",
   "version": "3.9.16"
  }
 },
 "nbformat": 4,
 "nbformat_minor": 4
}
