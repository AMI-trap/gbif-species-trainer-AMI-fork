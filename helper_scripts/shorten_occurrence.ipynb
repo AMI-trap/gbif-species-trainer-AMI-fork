{
 "cells": [
  {
   "cell_type": "markdown",
   "metadata": {},
   "source": [
    "Attempting to load the occurrence dataframe and make it smaller by retaining just the necessary columns."
   ]
  },
  {
   "cell_type": "code",
   "execution_count": 9,
   "metadata": {},
   "outputs": [],
   "source": [
    "import os\n",
    "import pandas as pd\n",
    "import sys\n",
    "from collections import Counter\n",
    "\n",
    "from dwca.read import DwCAReader\n",
    "from dwca.darwincore.utils import qualname as qn"
   ]
  },
  {
   "cell_type": "code",
<<<<<<< HEAD
   "execution_count": 2,
=======
   "execution_count": 10,
>>>>>>> 021d20aa781cd38de0c4261f6e07d4d5fed35fc9
   "metadata": {},
   "outputs": [],
   "source": [
    "home_dir = os.path.dirname(os.getcwd())\n",
    "data_dir = \"/bask/projects/v/vjgo8416-amber/data/gbif-species-trainer-AMI-fork/\"\n",
    "\n",
    "family_name = \"Sesiidae\"\n",
    "\n",
    "dwca_file_path = os.path.join(data_dir,\"dwca_files\",family_name+\".zip\")\n",
    "occurrence_file_path = os.path.join(data_dir,\"dwca_files\",family_name,\"occurrence.txt\")"
   ]
  },
  {
   "cell_type": "code",
   "execution_count": 11,
   "metadata": {},
   "outputs": [
    {
     "ename": "NotADataFile",
     "evalue": "/Users/lbokeria/Documents/projects/gbif-species-trainer-data/dwca_files/Sesiidae/occurrence.txt is not a data file",
     "output_type": "error",
     "traceback": [
      "\u001b[0;31m---------------------------------------------------------------------------\u001b[0m",
      "\u001b[0;31mNotADataFile\u001b[0m                              Traceback (most recent call last)",
      "\u001b[0;32m/var/folders/bf/8z6pr__14lq801rwlk2hx9r40000gr/T/ipykernel_51152/2591845478.py\u001b[0m in \u001b[0;36m<module>\u001b[0;34m\u001b[0m\n\u001b[1;32m      1\u001b[0m \u001b[0;32mwith\u001b[0m \u001b[0mDwCAReader\u001b[0m\u001b[0;34m(\u001b[0m\u001b[0mdwca_file_path\u001b[0m\u001b[0;34m)\u001b[0m \u001b[0;32mas\u001b[0m \u001b[0mdwca\u001b[0m\u001b[0;34m:\u001b[0m\u001b[0;34m\u001b[0m\u001b[0;34m\u001b[0m\u001b[0m\n\u001b[1;32m      2\u001b[0m     \u001b[0;31m# Get the file descriptor\u001b[0m\u001b[0;34m\u001b[0m\u001b[0;34m\u001b[0m\u001b[0m\n\u001b[0;32m----> 3\u001b[0;31m     \u001b[0mdatafile_descriptor\u001b[0m \u001b[0;34m=\u001b[0m \u001b[0mdwca\u001b[0m\u001b[0;34m.\u001b[0m\u001b[0mget_descriptor_for\u001b[0m\u001b[0;34m(\u001b[0m\u001b[0moccurrence_file_path\u001b[0m\u001b[0;34m)\u001b[0m\u001b[0;34m\u001b[0m\u001b[0;34m\u001b[0m\u001b[0m\n\u001b[0m\u001b[1;32m      4\u001b[0m     \u001b[0mprint\u001b[0m\u001b[0;34m(\u001b[0m\u001b[0mdatafile_descriptor\u001b[0m\u001b[0;34m)\u001b[0m\u001b[0;34m\u001b[0m\u001b[0;34m\u001b[0m\u001b[0m\n\u001b[1;32m      5\u001b[0m \u001b[0;34m\u001b[0m\u001b[0m\n",
      "\u001b[0;32m~/miniforge3/envs/gbif-species-trainer-AMI-fork/lib/python3.9/site-packages/dwca/read.py\u001b[0m in \u001b[0;36mget_descriptor_for\u001b[0;34m(self, relative_path)\u001b[0m\n\u001b[1;32m    349\u001b[0m                 \u001b[0;32mreturn\u001b[0m \u001b[0mdatafile\u001b[0m\u001b[0;34m.\u001b[0m\u001b[0mfile_descriptor\u001b[0m\u001b[0;34m\u001b[0m\u001b[0;34m\u001b[0m\u001b[0m\n\u001b[1;32m    350\u001b[0m \u001b[0;34m\u001b[0m\u001b[0m\n\u001b[0;32m--> 351\u001b[0;31m         \u001b[0;32mraise\u001b[0m \u001b[0mNotADataFile\u001b[0m\u001b[0;34m(\u001b[0m\u001b[0;34m\"{fn} is not a data file\"\u001b[0m\u001b[0;34m.\u001b[0m\u001b[0mformat\u001b[0m\u001b[0;34m(\u001b[0m\u001b[0mfn\u001b[0m\u001b[0;34m=\u001b[0m\u001b[0mrelative_path\u001b[0m\u001b[0;34m)\u001b[0m\u001b[0;34m)\u001b[0m\u001b[0;34m\u001b[0m\u001b[0;34m\u001b[0m\u001b[0m\n\u001b[0m\u001b[1;32m    352\u001b[0m \u001b[0;34m\u001b[0m\u001b[0m\n\u001b[1;32m    353\u001b[0m     \u001b[0;32mdef\u001b[0m \u001b[0m_is_valid_simple_archive\u001b[0m\u001b[0;34m(\u001b[0m\u001b[0mself\u001b[0m\u001b[0;34m)\u001b[0m \u001b[0;34m->\u001b[0m \u001b[0mstr\u001b[0m\u001b[0;34m:\u001b[0m\u001b[0;34m\u001b[0m\u001b[0;34m\u001b[0m\u001b[0m\n",
      "\u001b[0;31mNotADataFile\u001b[0m: /Users/lbokeria/Documents/projects/gbif-species-trainer-data/dwca_files/Sesiidae/occurrence.txt is not a data file"
     ]
    }
   ],
   "source": [
    "with DwCAReader(dwca_file_path) as dwca:\n",
    "    # Get the file descriptor\n",
    "    datafile_descriptor = dwca.get_descriptor_for(occurrence_file_path)\n",
    "    print(datafile_descriptor)\n",
    "    \n",
    "    "
   ]
  },
  {
   "cell_type": "code",
   "execution_count": 3,
   "metadata": {},
   "outputs": [],
   "source": [
    "# Remove the extra rows and compare the size\n",
    "fields_to_keep = [\n",
    "    \"id\",\n",
    "    \"decimalLatitude\",\n",
    "    \"decimalLongitude\",\n",
    "    \"order\",\n",
    "    \"family\",\n",
    "    \"genus\",\n",
    "    \"species\",\n",
    "    \"acceptedScientificName\",\n",
    "    \"year\",\n",
    "    \"month\",\n",
    "    \"day\",\n",
    "    \"datasetName\",\n",
    "    \"taxonID\",\n",
    "    \"acceptedTaxonKey\",\n",
    "    \"lifeStage\",\n",
    "    \"basisOfRecord\",\n",
    "]"
   ]
  },
  {
   "cell_type": "markdown",
   "metadata": {},
   "source": []
  },
  {
   "cell_type": "code",
   "execution_count": 38,
   "metadata": {},
   "outputs": [
    {
     "data": {
      "text/plain": [
       "0         WGS84\n",
       "1         WGS84\n",
       "2         WGS84\n",
       "3         WGS84\n",
       "4         WGS84\n",
       "          ...  \n",
       "127573    WGS84\n",
       "127574    WGS84\n",
       "127575    WGS84\n",
       "127576    WGS84\n",
       "127577    WGS84\n",
       "Name: geodeticDatum, Length: 127578, dtype: object"
      ]
     },
     "execution_count": 38,
     "metadata": {},
     "output_type": "execute_result"
    }
   ],
   "source": [
    "occ_df_usecols[\"geodeticDatum\"]"
   ]
  },
  {
   "cell_type": "code",
<<<<<<< HEAD
   "execution_count": 4,
=======
   "execution_count": 44,
>>>>>>> 021d20aa781cd38de0c4261f6e07d4d5fed35fc9
   "metadata": {},
   "outputs": [
    {
     "name": "stderr",
     "output_type": "stream",
     "text": [
      "/bask/projects/v/vjgo8416-amber/conda_envs/gbif-species-trainer-AMI-fork/lib/python3.8/site-packages/dwca/read.py:203: DtypeWarning: Columns (61,76,180) have mixed types. Specify dtype option on import or set low_memory=False.\n",
      "  df = read_csv(self.absolute_temporary_path(relative_path), **kwargs)\n"
     ]
    }
   ],
   "source": [
    "with DwCAReader(os.path.join(data_dir,\"dwca_files\",family_name+\".zip\")) as dwca:\n",
    "    occ_df_usecols = dwca.pd_read(\"occurrence.txt\", \n",
    "                                  parse_dates=True,\n",
    "                                  on_bad_lines=\"skip\",\n",
    "                                  usecols = fields_to_keep)\n"
   ]
  },
  {
   "cell_type": "code",
<<<<<<< HEAD
   "execution_count": 5,
=======
   "execution_count": 45,
>>>>>>> 021d20aa781cd38de0c4261f6e07d4d5fed35fc9
   "metadata": {},
   "outputs": [
    {
     "data": {
      "text/plain": [
       "85.77149105072021"
      ]
     },
<<<<<<< HEAD
     "execution_count": 5,
=======
     "execution_count": 45,
>>>>>>> 021d20aa781cd38de0c4261f6e07d4d5fed35fc9
     "metadata": {},
     "output_type": "execute_result"
    }
   ],
   "source": [
    "sys.getsizeof(occ_df_usecols)/1024/1024"
   ]
  },
  {
   "cell_type": "code",
<<<<<<< HEAD
   "execution_count": 8,
=======
   "execution_count": 41,
>>>>>>> 021d20aa781cd38de0c4261f6e07d4d5fed35fc9
   "metadata": {},
   "outputs": [],
   "source": [
    "occ_df_usecols_trunk = occ_df_usecols[fields_to_keep]"
   ]
  },
  {
   "cell_type": "code",
<<<<<<< HEAD
   "execution_count": 9,
=======
   "execution_count": 32,
   "metadata": {},
   "outputs": [
    {
     "data": {
      "text/plain": [
       "78.22808361053467"
      ]
     },
     "execution_count": 32,
     "metadata": {},
     "output_type": "execute_result"
    }
   ],
   "source": [
    "sys.getsizeof(occ_df_usecols_trunk)/1024/1024"
   ]
  },
  {
   "cell_type": "code",
   "execution_count": 46,
   "metadata": {},
   "outputs": [
    {
     "data": {
      "text/plain": [
       "Index(['geodeticDatum'], dtype='object')"
      ]
     },
     "execution_count": 46,
     "metadata": {},
     "output_type": "execute_result"
    }
   ],
   "source": [
    "occ_df_usecols.columns.difference(occ_df_trunc.columns)"
   ]
  },
  {
   "cell_type": "code",
   "execution_count": null,
   "metadata": {},
   "outputs": [],
   "source": [
    "# Now read in chunks\n",
    "\n",
    "with DwCAReader(os.path.join(data_dir,\"dwca_files\",family_name+\".zip\")) as dwca:\n",
    "    occ_df_smaller = []\n",
    "    for chunk in dwca.pd_read(\"occurrence.txt\", chunksize=10):\n",
    "        print(\"read the chunk now\")\n",
    "        print(chunk.shape)\n",
    "        # occ_df_smaller.append(chunk[fields_to_keep])\n",
    "        \n",
    "    \n",
    "    \n",
    "    "
   ]
  },
  {
   "cell_type": "code",
   "execution_count": 23,
>>>>>>> 021d20aa781cd38de0c4261f6e07d4d5fed35fc9
   "metadata": {},
   "outputs": [
    {
     "data": {
      "text/plain": [
       "78.22808361053467"
      ]
     },
     "execution_count": 9,
     "metadata": {},
     "output_type": "execute_result"
    }
   ],
   "source": [
    "sys.getsizeof(occ_df_usecols_trunk)/1024/1024"
   ]
  },
  {
   "cell_type": "code",
   "execution_count": 10,
   "metadata": {},
   "outputs": [
    {
     "data": {
      "text/plain": [
       "Index(['geodeticDatum'], dtype='object')"
      ]
     },
     "execution_count": 10,
     "metadata": {},
     "output_type": "execute_result"
    }
   ],
   "source": [
    "occ_df_usecols.columns.difference(occ_df_usecols_trunk.columns)"
   ]
  },
  {
   "cell_type": "code",
   "execution_count": null,
   "metadata": {},
   "outputs": [],
   "source": []
  }
 ],
 "metadata": {
  "kernelspec": {
   "display_name": "gbif-species-trainer-AMI-fork (Conda)",
   "language": "python",
   "name": "sys_gbif-species-trainer-ami-fork"
  },
  "language_info": {
   "codemirror_mode": {
    "name": "ipython",
    "version": 3
   },
   "file_extension": ".py",
   "mimetype": "text/x-python",
   "name": "python",
   "nbconvert_exporter": "python",
   "pygments_lexer": "ipython3",
   "version": "3.8.16"
  }
 },
 "nbformat": 4,
 "nbformat_minor": 4
}
