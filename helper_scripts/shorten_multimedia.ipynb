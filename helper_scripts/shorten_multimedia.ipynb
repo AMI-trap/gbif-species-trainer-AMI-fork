{
 "cells": [
  {
   "cell_type": "markdown",
   "metadata": {},
   "source": [
    "Attempting to load the occurrence dataframe and make it smaller by retaining just the necessary columns."
   ]
  },
  {
   "cell_type": "code",
   "execution_count": 1,
   "metadata": {},
   "outputs": [],
   "source": [
    "import os\n",
    "import pandas as pd\n",
    "import sys\n",
    "from collections import Counter\n",
    "\n",
    "from dwca.read import DwCAReader\n",
    "from dwca.descriptors import shorten_term\n",
    "from dwca.darwincore.utils import qualname as qn"
   ]
  },
  {
   "cell_type": "code",
   "execution_count": 2,
   "metadata": {},
   "outputs": [],
   "source": [
    "home_dir = os.path.dirname(os.getcwd())\n",
    "data_dir = \"/Users/lbokeria/Documents/projects/gbif-species-trainer-data/\"\n",
    "\n",
    "family_name_1 = \"Sesiidae\"\n",
    "family_name_2 = \"lepidoptera\"\n",
    "\n",
    "dwca_file_path_1     = os.path.join(data_dir,\"dwca_files\",family_name_1+\".zip\")\n",
    "dwca_file_path_2     = os.path.join(data_dir,\"dwca_files\",family_name_2+\".zip\")\n",
    "multimedia_file_path = os.path.join(data_dir,\"dwca_files\",family_name_2,\"multimedia.txt\")"
   ]
  },
  {
   "cell_type": "code",
   "execution_count": 3,
   "metadata": {},
   "outputs": [],
   "source": [
    "fields_to_keep = [\n",
    "    \"coreid\",\n",
    "    \"identifier\",\n",
    "]"
   ]
  },
  {
   "cell_type": "code",
   "execution_count": 4,
   "metadata": {},
   "outputs": [],
   "source": [
    "# Read the datafile descriptors for one\n",
    "kwargs = {}\n",
    "with DwCAReader(dwca_file_path_1) as dwca:\n",
    "    # Get the file descriptor\n",
    "    datafile_descriptor = dwca.get_descriptor_for(\"multimedia.txt\")"
   ]
  },
  {
   "cell_type": "code",
   "execution_count": 7,
   "metadata": {},
   "outputs": [],
   "source": [
    "# Just load the bigger file with usecols enabled\n",
    "kwargs = {}\n",
    "\n",
    "kwargs['delimiter'] = datafile_descriptor.fields_terminated_by\n",
    "kwargs['skiprows'] = datafile_descriptor.lines_to_ignore\n",
    "kwargs['header'] = None\n",
    "kwargs['names'] = datafile_descriptor.short_headers\n",
    "kwargs['parse_dates'] = True\n",
    "kwargs['on_bad_lines'] = \"skip\"\n",
    "kwargs['usecols'] = fields_to_keep\n",
    "\n",
    "media_df = pd.read_csv(multimedia_file_path, **kwargs)\n",
    "\n",
    "# Add a column for default values, if present in the file descriptor\n",
    "for field in datafile_descriptor.fields:\n",
    "    field_default_value = field['default']\n",
    "    if field_default_value is not None:\n",
    "        media_df[shorten_term(field['term'])] = field_default_value"
   ]
  },
  {
   "cell_type": "code",
   "execution_count": 8,
   "metadata": {},
   "outputs": [
    {
     "name": "stdout",
     "output_type": "stream",
     "text": [
      "2366.7391481399536\n"
     ]
    }
   ],
   "source": [
    "# Save the big file\n",
    "print(sys.getsizeof(media_df)/1024/1024)"
   ]
  },
  {
   "cell_type": "code",
   "execution_count": 9,
   "metadata": {},
   "outputs": [
    {
     "name": "stdout",
     "output_type": "stream",
     "text": [
      "<class 'pandas.core.frame.DataFrame'>\n",
      "RangeIndex: 18903772 entries, 0 to 18903771\n",
      "Data columns (total 2 columns):\n",
      " #   Column      Dtype \n",
      "---  ------      ----- \n",
      " 0   coreid      int64 \n",
      " 1   identifier  object\n",
      "dtypes: int64(1), object(1)\n",
      "memory usage: 288.4+ MB\n"
     ]
    }
   ],
   "source": [
    "media_df.info()"
   ]
  },
  {
   "cell_type": "code",
   "execution_count": 10,
   "metadata": {},
   "outputs": [],
   "source": [
    "# Save it\n",
    "media_df.to_csv(os.path.join(data_dir,\"dwca_files\",\"multimedia_\"+family_name_2+\".csv\"),index=False)"
   ]
  }
 ],
 "metadata": {
  "kernelspec": {
   "display_name": "base",
   "language": "python",
   "name": "python3"
  },
  "language_info": {
   "codemirror_mode": {
    "name": "ipython",
    "version": 3
   },
   "file_extension": ".py",
   "mimetype": "text/x-python",
   "name": "python",
   "nbconvert_exporter": "python",
   "pygments_lexer": "ipython3",
   "version": "3.9.16"
  }
 },
 "nbformat": 4,
 "nbformat_minor": 4
}
