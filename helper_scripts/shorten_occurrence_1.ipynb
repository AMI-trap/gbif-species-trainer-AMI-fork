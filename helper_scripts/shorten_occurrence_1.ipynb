{
 "cells": [
  {
   "cell_type": "markdown",
   "metadata": {},
   "source": [
    "Attempting to load the occurrence dataframe and make it smaller by retaining just the necessary columns."
   ]
  },
  {
   "cell_type": "code",
   "execution_count": 8,
   "metadata": {},
   "outputs": [],
   "source": [
    "import os\n",
    "import pandas as pd\n",
    "import sys\n",
    "from collections import Counter\n",
    "\n",
    "from dwca.read import DwCAReader\n",
    "from dwca.descriptors import shorten_term\n",
    "from dwca.darwincore.utils import qualname as qn"
   ]
  },
  {
   "cell_type": "code",
   "execution_count": 2,
   "metadata": {},
   "outputs": [],
   "source": [
    "home_dir = os.path.dirname(os.getcwd())\n",
    "data_dir = \"/Users/lbokeria/Documents/projects/gbif-species-trainer-data/\"\n",
    "\n",
    "family_name_1 = \"Sesiidae\"\n",
    "family_name_2 = \"Drepanidae\"\n",
    "\n",
    "dwca_file_path_1     = os.path.join(data_dir,\"dwca_files\",family_name_1+\".zip\")\n",
    "dwca_file_path_2     = os.path.join(data_dir,\"dwca_files\",family_name_2+\".zip\")\n",
    "occurrence_file_path = os.path.join(data_dir,\"dwca_files\",family_name_2,\"occurrence.txt\")"
   ]
  },
  {
   "cell_type": "code",
   "execution_count": 5,
   "metadata": {},
   "outputs": [],
   "source": [
    "fields_to_keep = [\n",
    "    \"id\",\n",
    "    \"decimalLatitude\",\n",
    "    \"decimalLongitude\",\n",
    "    \"order\",\n",
    "    \"family\",\n",
    "    \"genus\",\n",
    "    \"species\",\n",
    "    \"acceptedScientificName\",\n",
    "    \"year\",\n",
    "    \"month\",\n",
    "    \"day\",\n",
    "    \"datasetName\",\n",
    "    \"taxonID\",\n",
    "    \"acceptedTaxonKey\",\n",
    "    \"lifeStage\",\n",
    "    \"basisOfRecord\",\n",
    "]"
   ]
  },
  {
   "cell_type": "code",
   "execution_count": 3,
   "metadata": {},
   "outputs": [],
   "source": [
    "# Read the datafile descriptors for one\n",
    "kwargs = {}\n",
    "with DwCAReader(dwca_file_path_1) as dwca:\n",
    "    # Get the file descriptor\n",
    "    datafile_descriptor = dwca.get_descriptor_for(\"occurrence.txt\")"
   ]
  },
  {
   "cell_type": "code",
   "execution_count": 13,
   "metadata": {},
   "outputs": [
    {
     "name": "stderr",
     "output_type": "stream",
     "text": [
      "/var/folders/bf/8z6pr__14lq801rwlk2hx9r40000gr/T/ipykernel_2837/2592414751.py:13: DtypeWarning: Columns (61,76,180) have mixed types. Specify dtype option on import or set low_memory=False.\n",
      "  occ_df = pd.read_csv(occurrence_file_path, **kwargs)\n"
     ]
    }
   ],
   "source": [
    "# Just load the bigger file with usecols enabled\n",
    "kwargs = {}\n",
    "with DwCAReader(dwca_file_path_2) as dwca:\n",
    "    \n",
    "    kwargs['delimiter'] = datafile_descriptor.fields_terminated_by\n",
    "    kwargs['skiprows'] = datafile_descriptor.lines_to_ignore\n",
    "    kwargs['header'] = None\n",
    "    kwargs['names'] = datafile_descriptor.short_headers\n",
    "    kwargs['parse_dates'] = True\n",
    "    kwargs['on_bad_lines'] = \"skip\"\n",
    "    kwargs['usecols'] = fields_to_keep\n",
    "    \n",
    "    occ_df = pd.read_csv(occurrence_file_path, **kwargs)\n",
    "    \n",
    "    # Add a column for default values, if present in the file descriptor\n",
    "    for field in datafile_descriptor.fields:\n",
    "        field_default_value = field['default']\n",
    "        if field_default_value is not None:\n",
    "            occ_df[shorten_term(field['term'])] = field_default_value"
   ]
  },
  {
   "cell_type": "code",
   "execution_count": null,
   "metadata": {},
   "outputs": [],
   "source": [
    "# Save the big file"
   ]
  },
  {
   "cell_type": "code",
   "execution_count": null,
   "metadata": {},
   "outputs": [],
   "source": [
    "# # Read the big file in chunks and save only the smaller columns\n",
    "# kwargs = {}\n",
    "# with DwCAReader(dwca_file_path_2) as dwca:\n",
    "    \n",
    "#     kwargs['delimiter'] = datafile_descriptor.fields_terminated_by\n",
    "#     kwargs['skiprows'] = datafile_descriptor.lines_to_ignore\n",
    "#     kwargs['header'] = None\n",
    "#     kwargs['names'] = datafile_descriptor.short_headers\n",
    "#     kwargs['parse_dates'] = True\n",
    "#     kwargs['on_bad_lines'] = \"skip\"\n",
    "#     kwargs['usecols'] = fields_to_keep\n",
    "#     kwargs['chunksize'] = 10000\n",
    "    \n",
    "#     occ_df = []\n",
    "    \n",
    "#     for chunk in pd.read_csv(occurrence_file_path, **kwargs):\n",
    "            \n",
    "#         # Add a column for default values, if present in the file descriptor\n",
    "#         for field in datafile_descriptor.fields:\n",
    "#             field_default_value = field['default']\n",
    "#             if field_default_value is not None:\n",
    "#                 chunk[shorten_term(field['term'])] = field_default_value\n",
    "        \n",
    "#         print(chunk.columns)\n",
    "\n",
    "    "
   ]
  },
  {
   "cell_type": "code",
   "execution_count": null,
   "metadata": {},
   "outputs": [],
   "source": []
  }
 ],
 "metadata": {
  "kernelspec": {
   "display_name": "base",
   "language": "python",
   "name": "python3"
  },
  "language_info": {
   "codemirror_mode": {
    "name": "ipython",
    "version": 3
   },
   "file_extension": ".py",
   "mimetype": "text/x-python",
   "name": "python",
   "nbconvert_exporter": "python",
   "pygments_lexer": "ipython3",
   "version": "3.9.16"
  }
 },
 "nbformat": 4,
 "nbformat_minor": 4
}
