{
 "cells": [
  {
   "cell_type": "markdown",
   "metadata": {},
   "source": [
    "Take the data_statistics.csv file that shows us how many images we have for species. Merge with the moths list CSV file. Then create a histogram to see how many images we have for each species."
   ]
  },
  {
   "cell_type": "code",
   "execution_count": 120,
   "metadata": {},
   "outputs": [
    {
     "data": {
      "text/plain": [
       "<Figure size 200x500 with 0 Axes>"
      ]
     },
     "execution_count": 120,
     "metadata": {},
     "output_type": "execute_result"
    },
    {
     "data": {
      "text/plain": [
       "<Figure size 200x500 with 0 Axes>"
      ]
     },
     "metadata": {},
     "output_type": "display_data"
    }
   ],
   "source": [
    "import os\n",
    "import pandas as pd\n",
    "import matplotlib.pyplot as plt\n",
    "import seaborn as sns\n",
    "\n",
    "sns.set(rc={'figure.figsize':(2,10)})\n",
    "plt.figure(figsize=(2,5))"
   ]
  },
  {
   "cell_type": "code",
   "execution_count": 121,
   "metadata": {},
   "outputs": [
    {
     "data": {
      "text/plain": [
       "'/Users/lbokeria/Documents/projects/gbif-species-trainer-AMI-fork'"
      ]
     },
     "execution_count": 121,
     "metadata": {},
     "output_type": "execute_result"
    }
   ],
   "source": [
    "home_dir = os.path.dirname(os.getcwd())\n",
    "home_dir"
   ]
  },
  {
   "cell_type": "code",
   "execution_count": 122,
   "metadata": {},
   "outputs": [],
   "source": [
    "# Load the data statistics and the moth files\n",
    "data_stats   = pd.read_csv(os.path.join(home_dir,\"data_download\",\"output_files\",\"data_statistics.csv\"))\n",
    "species_list = pd.read_csv(os.path.join(home_dir,\"data_download\",\"species_checklists\",\"uksi-macro-moths-keys.csv\"))"
   ]
  },
  {
   "cell_type": "code",
   "execution_count": 123,
   "metadata": {},
   "outputs": [
    {
     "data": {
      "text/plain": [
       "(999, 11)"
      ]
     },
     "execution_count": 123,
     "metadata": {},
     "output_type": "execute_result"
    }
   ],
   "source": [
    "data_stats.shape\n",
    "species_list.shape"
   ]
  },
  {
   "cell_type": "code",
   "execution_count": 124,
   "metadata": {},
   "outputs": [
    {
     "data": {
      "text/plain": [
       "(995, 11)"
      ]
     },
     "execution_count": 124,
     "metadata": {},
     "output_type": "execute_result"
    }
   ],
   "source": [
    "# Remove any NotAvail rows\n",
    "species_list_nodup = species_list[species_list[\"gbif_species_name\"] != \"NotAvail\"]\n",
    "species_list_nodup.shape"
   ]
  },
  {
   "cell_type": "code",
   "execution_count": 125,
   "metadata": {},
   "outputs": [
    {
     "data": {
      "text/plain": [
       "(990, 11)"
      ]
     },
     "execution_count": 125,
     "metadata": {},
     "output_type": "execute_result"
    }
   ],
   "source": [
    "# Remove any duplicate rows\n",
    "species_list_nodup = species_list_nodup.drop_duplicates(subset=\"gbif_species_name\",\n",
    "                                                       ignore_index=True)\n",
    "species_list_nodup.shape"
   ]
  },
  {
   "cell_type": "code",
   "execution_count": 126,
   "metadata": {},
   "outputs": [
    {
     "data": {
      "text/html": [
       "<div>\n",
       "<style scoped>\n",
       "    .dataframe tbody tr th:only-of-type {\n",
       "        vertical-align: middle;\n",
       "    }\n",
       "\n",
       "    .dataframe tbody tr th {\n",
       "        vertical-align: top;\n",
       "    }\n",
       "\n",
       "    .dataframe thead th {\n",
       "        text-align: right;\n",
       "    }\n",
       "</style>\n",
       "<table border=\"1\" class=\"dataframe\">\n",
       "  <thead>\n",
       "    <tr style=\"text-align: right;\">\n",
       "      <th></th>\n",
       "      <th>accepted_taxon_key</th>\n",
       "      <th>order_name</th>\n",
       "      <th>family_name</th>\n",
       "      <th>genus_name</th>\n",
       "      <th>search_species_name</th>\n",
       "      <th>gbif_species_name</th>\n",
       "      <th>confidence</th>\n",
       "      <th>status</th>\n",
       "      <th>match_type</th>\n",
       "      <th>rank</th>\n",
       "      <th>source</th>\n",
       "      <th>image_count</th>\n",
       "    </tr>\n",
       "  </thead>\n",
       "  <tbody>\n",
       "    <tr>\n",
       "      <th>0</th>\n",
       "      <td>5101394</td>\n",
       "      <td>Lepidoptera</td>\n",
       "      <td>Cossidae</td>\n",
       "      <td>Cossus</td>\n",
       "      <td>Cossus cossus</td>\n",
       "      <td>Cossus cossus</td>\n",
       "      <td>98</td>\n",
       "      <td>ACCEPTED</td>\n",
       "      <td>EXACT</td>\n",
       "      <td>SPECIES</td>\n",
       "      <td>london31May2023</td>\n",
       "      <td>1000.0</td>\n",
       "    </tr>\n",
       "    <tr>\n",
       "      <th>1</th>\n",
       "      <td>1731598</td>\n",
       "      <td>Lepidoptera</td>\n",
       "      <td>Cossidae</td>\n",
       "      <td>Phragmataecia</td>\n",
       "      <td>Phragmataecia castaneae</td>\n",
       "      <td>Phragmataecia castaneae</td>\n",
       "      <td>99</td>\n",
       "      <td>ACCEPTED</td>\n",
       "      <td>EXACT</td>\n",
       "      <td>SPECIES</td>\n",
       "      <td>london31May2023</td>\n",
       "      <td>921.0</td>\n",
       "    </tr>\n",
       "    <tr>\n",
       "      <th>2</th>\n",
       "      <td>1730978</td>\n",
       "      <td>Lepidoptera</td>\n",
       "      <td>Cossidae</td>\n",
       "      <td>Zeuzera</td>\n",
       "      <td>Zeuzera pyrina</td>\n",
       "      <td>Zeuzera pyrina</td>\n",
       "      <td>99</td>\n",
       "      <td>ACCEPTED</td>\n",
       "      <td>EXACT</td>\n",
       "      <td>SPECIES</td>\n",
       "      <td>london31May2023</td>\n",
       "      <td>1000.0</td>\n",
       "    </tr>\n",
       "    <tr>\n",
       "      <th>3</th>\n",
       "      <td>1952229</td>\n",
       "      <td>Lepidoptera</td>\n",
       "      <td>Drepanidae</td>\n",
       "      <td>Achlya</td>\n",
       "      <td>Achlya flavicornis</td>\n",
       "      <td>Achlya flavicornis</td>\n",
       "      <td>99</td>\n",
       "      <td>ACCEPTED</td>\n",
       "      <td>EXACT</td>\n",
       "      <td>SPECIES</td>\n",
       "      <td>london31May2023</td>\n",
       "      <td>1000.0</td>\n",
       "    </tr>\n",
       "    <tr>\n",
       "      <th>4</th>\n",
       "      <td>1951557</td>\n",
       "      <td>Lepidoptera</td>\n",
       "      <td>Drepanidae</td>\n",
       "      <td>Cilix</td>\n",
       "      <td>Cilix glaucata</td>\n",
       "      <td>Cilix glaucata</td>\n",
       "      <td>99</td>\n",
       "      <td>ACCEPTED</td>\n",
       "      <td>EXACT</td>\n",
       "      <td>SPECIES</td>\n",
       "      <td>london31May2023</td>\n",
       "      <td>1000.0</td>\n",
       "    </tr>\n",
       "    <tr>\n",
       "      <th>...</th>\n",
       "      <td>...</td>\n",
       "      <td>...</td>\n",
       "      <td>...</td>\n",
       "      <td>...</td>\n",
       "      <td>...</td>\n",
       "      <td>...</td>\n",
       "      <td>...</td>\n",
       "      <td>...</td>\n",
       "      <td>...</td>\n",
       "      <td>...</td>\n",
       "      <td>...</td>\n",
       "      <td>...</td>\n",
       "    </tr>\n",
       "    <tr>\n",
       "      <th>985</th>\n",
       "      <td>8426357</td>\n",
       "      <td>Lepidoptera</td>\n",
       "      <td>Zygaenidae</td>\n",
       "      <td>Zygaena</td>\n",
       "      <td>Zygaena lonicerae</td>\n",
       "      <td>Zygaena lonicerae</td>\n",
       "      <td>99</td>\n",
       "      <td>ACCEPTED</td>\n",
       "      <td>EXACT</td>\n",
       "      <td>SPECIES</td>\n",
       "      <td>london31May2023</td>\n",
       "      <td>1000.0</td>\n",
       "    </tr>\n",
       "    <tr>\n",
       "      <th>986</th>\n",
       "      <td>7674502</td>\n",
       "      <td>Lepidoptera</td>\n",
       "      <td>Zygaenidae</td>\n",
       "      <td>Zygaena</td>\n",
       "      <td>Zygaena loti</td>\n",
       "      <td>Zygaena loti</td>\n",
       "      <td>99</td>\n",
       "      <td>ACCEPTED</td>\n",
       "      <td>EXACT</td>\n",
       "      <td>SPECIES</td>\n",
       "      <td>london31May2023</td>\n",
       "      <td>1000.0</td>\n",
       "    </tr>\n",
       "    <tr>\n",
       "      <th>987</th>\n",
       "      <td>7410701</td>\n",
       "      <td>Lepidoptera</td>\n",
       "      <td>Zygaenidae</td>\n",
       "      <td>Zygaena</td>\n",
       "      <td>Zygaena purpuralis</td>\n",
       "      <td>Zygaena purpuralis</td>\n",
       "      <td>98</td>\n",
       "      <td>ACCEPTED</td>\n",
       "      <td>EXACT</td>\n",
       "      <td>SPECIES</td>\n",
       "      <td>london31May2023</td>\n",
       "      <td>450.0</td>\n",
       "    </tr>\n",
       "    <tr>\n",
       "      <th>988</th>\n",
       "      <td>7761138</td>\n",
       "      <td>Lepidoptera</td>\n",
       "      <td>Zygaenidae</td>\n",
       "      <td>Zygaena</td>\n",
       "      <td>Zygaena trifolii</td>\n",
       "      <td>Zygaena trifolii</td>\n",
       "      <td>99</td>\n",
       "      <td>ACCEPTED</td>\n",
       "      <td>EXACT</td>\n",
       "      <td>SPECIES</td>\n",
       "      <td>london31May2023</td>\n",
       "      <td>1000.0</td>\n",
       "    </tr>\n",
       "    <tr>\n",
       "      <th>989</th>\n",
       "      <td>5107644</td>\n",
       "      <td>Lepidoptera</td>\n",
       "      <td>Zygaenidae</td>\n",
       "      <td>Zygaena</td>\n",
       "      <td>Zygaena viciae</td>\n",
       "      <td>Zygaena viciae</td>\n",
       "      <td>98</td>\n",
       "      <td>ACCEPTED</td>\n",
       "      <td>EXACT</td>\n",
       "      <td>SPECIES</td>\n",
       "      <td>london31May2023</td>\n",
       "      <td>1000.0</td>\n",
       "    </tr>\n",
       "  </tbody>\n",
       "</table>\n",
       "<p>990 rows × 12 columns</p>\n",
       "</div>"
      ],
      "text/plain": [
       "     accepted_taxon_key   order_name family_name     genus_name  \\\n",
       "0               5101394  Lepidoptera    Cossidae         Cossus   \n",
       "1               1731598  Lepidoptera    Cossidae  Phragmataecia   \n",
       "2               1730978  Lepidoptera    Cossidae        Zeuzera   \n",
       "3               1952229  Lepidoptera  Drepanidae         Achlya   \n",
       "4               1951557  Lepidoptera  Drepanidae          Cilix   \n",
       "..                  ...          ...         ...            ...   \n",
       "985             8426357  Lepidoptera  Zygaenidae        Zygaena   \n",
       "986             7674502  Lepidoptera  Zygaenidae        Zygaena   \n",
       "987             7410701  Lepidoptera  Zygaenidae        Zygaena   \n",
       "988             7761138  Lepidoptera  Zygaenidae        Zygaena   \n",
       "989             5107644  Lepidoptera  Zygaenidae        Zygaena   \n",
       "\n",
       "         search_species_name        gbif_species_name  confidence    status  \\\n",
       "0              Cossus cossus            Cossus cossus          98  ACCEPTED   \n",
       "1    Phragmataecia castaneae  Phragmataecia castaneae          99  ACCEPTED   \n",
       "2             Zeuzera pyrina           Zeuzera pyrina          99  ACCEPTED   \n",
       "3         Achlya flavicornis       Achlya flavicornis          99  ACCEPTED   \n",
       "4             Cilix glaucata           Cilix glaucata          99  ACCEPTED   \n",
       "..                       ...                      ...         ...       ...   \n",
       "985        Zygaena lonicerae        Zygaena lonicerae          99  ACCEPTED   \n",
       "986             Zygaena loti             Zygaena loti          99  ACCEPTED   \n",
       "987       Zygaena purpuralis       Zygaena purpuralis          98  ACCEPTED   \n",
       "988         Zygaena trifolii         Zygaena trifolii          99  ACCEPTED   \n",
       "989           Zygaena viciae           Zygaena viciae          98  ACCEPTED   \n",
       "\n",
       "    match_type     rank           source  image_count  \n",
       "0        EXACT  SPECIES  london31May2023       1000.0  \n",
       "1        EXACT  SPECIES  london31May2023        921.0  \n",
       "2        EXACT  SPECIES  london31May2023       1000.0  \n",
       "3        EXACT  SPECIES  london31May2023       1000.0  \n",
       "4        EXACT  SPECIES  london31May2023       1000.0  \n",
       "..         ...      ...              ...          ...  \n",
       "985      EXACT  SPECIES  london31May2023       1000.0  \n",
       "986      EXACT  SPECIES  london31May2023       1000.0  \n",
       "987      EXACT  SPECIES  london31May2023        450.0  \n",
       "988      EXACT  SPECIES  london31May2023       1000.0  \n",
       "989      EXACT  SPECIES  london31May2023       1000.0  \n",
       "\n",
       "[990 rows x 12 columns]"
      ]
     },
     "execution_count": 126,
     "metadata": {},
     "output_type": "execute_result"
    }
   ],
   "source": [
    "# pd.options.display.max_rows = None\n",
    "# pd.reset_option(\"display.max_rows\")\n",
    "species_image_count = pd.merge(species_list_nodup,data_stats[[\"gbif_species_name\",\"image_count\"]],\n",
    "                               on=\"gbif_species_name\",\n",
    "                               how=\"left\")\n",
    "species_image_count"
   ]
  },
  {
   "cell_type": "code",
   "execution_count": 127,
   "metadata": {},
   "outputs": [],
   "source": [
    "# Change NaN to 0\n",
    "species_image_count.loc[pd.isna(species_image_count[\"image_count\"]),\"image_count\"] = 0"
   ]
  },
  {
   "cell_type": "code",
   "execution_count": 128,
   "metadata": {},
   "outputs": [
    {
     "name": "stdout",
     "output_type": "stream",
     "text": [
      "(456 species have 1000 images, out of 990\n",
      "(287 species have 0 images, out of 990\n"
     ]
    }
   ],
   "source": [
    "# How many with 1000? \n",
    "n_species = len(species_image_count)\n",
    "\n",
    "n_species_1000 = len(species_image_count[species_image_count[\"image_count\"] == 1000])\n",
    "print(f\"({n_species_1000} species have 1000 images, out of {n_species}\")\n",
    "\n",
    "n_species_0 = len(species_image_count[species_image_count[\"image_count\"] == 0])\n",
    "print(f\"({n_species_0} species have 0 images, out of {n_species}\")"
   ]
  },
  {
   "cell_type": "code",
   "execution_count": 129,
   "metadata": {},
   "outputs": [],
   "source": [
    "# Save the image count file\n",
    "species_image_count.to_csv(\n",
    "    os.path.join(home_dir,\n",
    "                 \"data_download\",\n",
    "                 \"output_files\",\n",
    "                 \"species_image_count.csv\"),\n",
    "    index=False)"
   ]
  },
  {
   "cell_type": "code",
   "execution_count": 142,
   "metadata": {},
   "outputs": [
    {
     "data": {
      "text/plain": [
       "<seaborn.axisgrid.FacetGrid at 0x2964a5100>"
      ]
     },
     "execution_count": 142,
     "metadata": {},
     "output_type": "execute_result"
    },
    {
     "data": {
      "image/png": "[encoded data removed]",
      "text/plain": [
       "<Figure size 450x300 with 1 Axes>"
      ]
     },
     "metadata": {},
     "output_type": "display_data"
    }
   ],
   "source": [
    "# Get whose with more than 0 but less than 1000 images and plot them\n",
    "species_between_0_1000 = species_image_count[\n",
    "    (species_image_count[\"image_count\"] > 0) & \\\n",
    "        (species_image_count[\"image_count\"] < 1000)\n",
    "        ].reset_index()\n",
    "\n",
    "species_between_0_1000\n",
    "\n",
    "fig = sns.displot(species_image_count,\n",
    "                  x=\"image_count\",\n",
    "                  binwidth=20,\n",
    "                  height=3,\n",
    "                  aspect=1.5).set(title=\"Histogram of image counts for species\")\n",
    "\n",
    "fig.set(xlabel=\"Image count\")\n",
    "fig.set(ylabel=\"Species count\")\n",
    "\n",
    "# sns.barplot(x = \"gbif_species_name\",\n",
    "#             y = \"image_count\",\n",
    "#             data = species_image_count[species_image_count[\"image_count\"] == 1000])\n",
    "# plt.xticks(rotation=90)"
   ]
  },
  {
   "cell_type": "code",
   "execution_count": 144,
   "metadata": {},
   "outputs": [
    {
     "data": {
      "text/plain": [
       "(0.0, 20.0)"
      ]
     },
     "execution_count": 144,
     "metadata": {},
     "output_type": "execute_result"
    },
    {
     "data": {
      "image/png": "[encoded data removed]",
      "text/plain": [
       "<Figure size 450x300 with 1 Axes>"
      ]
     },
     "metadata": {},
     "output_type": "display_data"
    }
   ],
   "source": [
    "fig2 = sns.displot(species_image_count,\n",
    "                  x=\"image_count\",\n",
    "                  binwidth=20,\n",
    "                  height=3,\n",
    "                  aspect=1.5).set(title=\"Histogram of image counts for species\")\n",
    "\n",
    "fig2.set(xlabel=\"Image count\")\n",
    "fig2.set(ylabel=\"Species count\")\n",
    "\n",
    "plt.ylim(0,20)"
   ]
  },
  {
   "cell_type": "code",
   "execution_count": null,
   "metadata": {},
   "outputs": [],
   "source": []
  }
 ],
 "metadata": {
  "kernelspec": {
   "display_name": "gbif-species-trainer-AMI-fork",
   "language": "python",
   "name": "python3"
  },
  "language_info": {
   "codemirror_mode": {
    "name": "ipython",
    "version": 3
   },
   "file_extension": ".py",
   "mimetype": "text/x-python",
   "name": "python",
   "nbconvert_exporter": "python",
   "pygments_lexer": "ipython3",
   "version": "3.9.16"
  },
  "orig_nbformat": 4
 },
 "nbformat": 4,
 "nbformat_minor": 2
}
