{
 "cells": [
  {
   "cell_type": "markdown",
   "metadata": {},
   "source": [
    "Split occurrence df into smaller parts"
   ]
  },
  {
   "cell_type": "code",
   "execution_count": 1,
   "metadata": {},
   "outputs": [],
   "source": [
    "import os\n",
    "import pandas as pd\n",
    "import sys"
   ]
  },
  {
   "cell_type": "code",
   "execution_count": 2,
   "metadata": {},
   "outputs": [],
   "source": [
    "home_dir = os.path.dirname(os.getcwd())\n",
    "# data_dir = \"/Users/lbokeria/Documents/projects/gbif-species-trainer-data/\"\n",
    "data_dir = \"/bask/projects/v/vjgo8416-amber/data/gbif-species-trainer-AMI-fork/\"\n",
    "\n",
    "filename = \"lepidoptera\"\n",
    "destination = \"occurrence_dataframes\"\n",
    "\n",
    "occ_df_path = os.path.join(data_dir,\"dwca_files\",\"occurrence_\"+filename+\".csv\")"
   ]
  },
  {
   "cell_type": "code",
   "execution_count": 3,
   "metadata": {},
   "outputs": [
    {
     "name": "stderr",
     "output_type": "stream",
     "text": [
      "/tmp/ipykernel_3851041/3450761367.py:15: DtypeWarning: Columns (1,3,4,5,6,7,8,9,13) have mixed types. Specify dtype option on import or set low_memory=False.\n",
      "  occ_df = pd.read_csv(occ_df_path, **kwargs)\n"
     ]
    }
   ],
   "source": [
    "# Load the big DF in chunks\n",
    "kwargs = {}\n",
    "\n",
    "kwargs['parse_dates'] = True\n",
    "kwargs['on_bad_lines'] = \"skip\"\n",
    "# kwargs['chunksize'] = 1000\n",
    "\n",
    "# occ_df = []\n",
    "\n",
    "# for chunk in pd.read_csv(occ_df_path, **kwargs):\n",
    "#     print(chunk.head())\n",
    "#     print(chunk.columns)\n",
    "#     break\n",
    "\n",
    "occ_df = pd.read_csv(occ_df_path, **kwargs)"
   ]
  },
  {
   "cell_type": "code",
   "execution_count": 4,
   "metadata": {},
   "outputs": [
    {
     "data": {
      "text/plain": [
       "Index(['id', 'datasetName', 'basisOfRecord', 'lifeStage', 'year', 'month',\n",
       "       'day', 'decimalLatitude', 'decimalLongitude', 'taxonID', 'order',\n",
       "       'family', 'genus', 'acceptedTaxonKey', 'species',\n",
       "       'acceptedScientificName'],\n",
       "      dtype='object')"
      ]
     },
     "execution_count": 4,
     "metadata": {},
     "output_type": "execute_result"
    }
   ],
   "source": [
    "# Columns \n",
    "occ_df.columns"
   ]
  },
  {
   "cell_type": "code",
   "execution_count": 6,
   "metadata": {},
   "outputs": [
    {
     "name": "stdout",
     "output_type": "stream",
     "text": [
      "<class 'pandas.core.frame.DataFrame'>\n",
      "RangeIndex: 86182048 entries, 0 to 86182047\n",
      "Data columns (total 16 columns):\n",
      " #   Column                  Dtype \n",
      "---  ------                  ----- \n",
      " 0   id                      int64 \n",
      " 1   datasetName             object\n",
      " 2   basisOfRecord           object\n",
      " 3   lifeStage               object\n",
      " 4   year                    object\n",
      " 5   month                   object\n",
      " 6   day                     object\n",
      " 7   decimalLatitude         object\n",
      " 8   decimalLongitude        object\n",
      " 9   taxonID                 object\n",
      " 10  order                   object\n",
      " 11  family                  object\n",
      " 12  genus                   object\n",
      " 13  acceptedTaxonKey        object\n",
      " 14  species                 object\n",
      " 15  acceptedScientificName  object\n",
      "dtypes: int64(1), object(15)\n",
      "memory usage: 10.3+ GB\n"
     ]
    }
   ],
   "source": [
    "occ_df.info()"
   ]
  },
  {
   "cell_type": "code",
   "execution_count": 7,
   "metadata": {},
   "outputs": [],
   "source": [
    "# Get the number of species\n",
    "n_species = occ_df[\"taxonID\"].unique()"
   ]
  },
  {
   "cell_type": "code",
   "execution_count": 8,
   "metadata": {},
   "outputs": [
    {
     "data": {
      "text/plain": [
       "735681"
      ]
     },
     "execution_count": 8,
     "metadata": {},
     "output_type": "execute_result"
    }
   ],
   "source": [
    "len(n_species)"
   ]
  },
  {
   "cell_type": "code",
   "execution_count": 9,
   "metadata": {},
   "outputs": [
    {
     "data": {
      "text/plain": [
       "array([-1604655527, -1342268960, 461551610, ..., 1036396.0, 1291587.0,\n",
       "       647935.0], dtype=object)"
      ]
     },
     "execution_count": 9,
     "metadata": {},
     "output_type": "execute_result"
    }
   ],
   "source": [
    "n_species"
   ]
  },
  {
   "cell_type": "code",
   "execution_count": 10,
   "metadata": {},
   "outputs": [],
   "source": [
    "# Try saving as dataframes\n",
    "groups = occ_df.groupby(\"taxonID\")"
   ]
  },
  {
   "cell_type": "code",
   "execution_count": 13,
   "metadata": {},
   "outputs": [
    {
     "data": {
      "text/plain": [
       "735680"
      ]
     },
     "execution_count": 13,
     "metadata": {},
     "output_type": "execute_result"
    }
   ],
   "source": [
    "groups.ngroups"
   ]
  },
  {
   "cell_type": "code",
   "execution_count": null,
   "metadata": {},
   "outputs": [],
   "source": [
    "for group_name, group_df in groups:\n",
    "    filename = f'{group_name}.csv'\n",
    "    \n",
    "    group_df.to_csv(os.path.join(data_dir,\"dwca_files\",destination,filename), index=False)"
   ]
  },
  {
   "cell_type": "code",
   "execution_count": 14,
   "metadata": {},
   "outputs": [],
   "source": [
    "errors = []  # List to store error messages\n",
    "\n",
    "for group_name, group_df in groups:\n",
    "    filename = f'{group_name}.csv'\n",
    "    filepath = os.path.join(data_dir, \"dwca_files\", destination, filename)\n",
    "    \n",
    "    # Check if file already exists\n",
    "    if os.path.exists(filepath):\n",
    "        continue\n",
    "    \n",
    "    try:\n",
    "        group_df.to_csv(filepath, index=False)\n",
    "    except Exception as e:\n",
    "        error_message = f\"Error saving group {group_name}: {e}\"\n",
    "        errors.append(error_message)"
   ]
  },
  {
   "cell_type": "code",
   "execution_count": null,
   "metadata": {},
   "outputs": [],
   "source": []
  }
 ],
 "metadata": {
  "kernelspec": {
   "display_name": "gbif-species-trainer-AMI-fork (Conda)",
   "language": "python",
   "name": "sys_gbif-species-trainer-ami-fork"
  },
  "language_info": {
   "codemirror_mode": {
    "name": "ipython",
    "version": 3
   },
   "file_extension": ".py",
   "mimetype": "text/x-python",
   "name": "python",
   "nbconvert_exporter": "python",
   "pygments_lexer": "ipython3",
   "version": "3.8.16"
  }
 },
 "nbformat": 4,
 "nbformat_minor": 4
}
