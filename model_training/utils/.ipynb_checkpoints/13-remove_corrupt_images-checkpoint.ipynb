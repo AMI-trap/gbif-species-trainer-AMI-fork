{
 "cells": [
  {
   "cell_type": "code",
   "execution_count": 5,
   "metadata": {},
   "outputs": [],
   "source": [
    "\"\"\"\n",
    "Author        : Aditya Jain\n",
    "Date Started  : June 20, 2022\n",
    "About         : Removes corrupted images in the GBIF dataset\n",
    "\"\"\"\n",
    "import os\n",
    "import glob\n",
    "from PIL import Image\n",
    "\n",
    "data_dir    = '/home/mila/a/aditya.jain/scratch/GBIF_Data/moths_uk/'            "
   ]
  },
  {
   "cell_type": "code",
   "execution_count": 6,
   "metadata": {},
   "outputs": [
    {
     "name": "stdout",
     "output_type": "stream",
     "text": [
      "/home/mila/a/aditya.jain/scratch/GBIF_Data/moths_uk/Noctuidae/Calophasia/Calophasia lunula/1846734651.jpg\n",
      "/home/mila/a/aditya.jain/scratch/GBIF_Data/moths_uk/Noctuidae/Calophasia/Calophasia lunula/1846734700.jpg\n",
      "/home/mila/a/aditya.jain/scratch/GBIF_Data/moths_uk/Noctuidae/Spodoptera/Spodoptera exigua/1846732310.jpg\n",
      "/home/mila/a/aditya.jain/scratch/GBIF_Data/moths_uk/Noctuidae/Peridroma/Peridroma saucia/2542748551.jpg\n",
      "/home/mila/a/aditya.jain/scratch/GBIF_Data/moths_uk/Noctuidae/Rhizedra/Rhizedra lutosa/2542748797.jpg\n",
      "/home/mila/a/aditya.jain/scratch/GBIF_Data/moths_uk/Noctuidae/Rhizedra/Rhizedra lutosa/1846917279.jpg\n",
      "/home/mila/a/aditya.jain/scratch/GBIF_Data/moths_uk/Noctuidae/Rhizedra/Rhizedra lutosa/1846917278.jpg\n",
      "/home/mila/a/aditya.jain/scratch/GBIF_Data/moths_uk/Noctuidae/Trichoplusia/Trichoplusia ni/1846919256.jpg\n",
      "/home/mila/a/aditya.jain/scratch/GBIF_Data/moths_uk/Noctuidae/Trichoplusia/Trichoplusia ni/1846919262.jpg\n",
      "/home/mila/a/aditya.jain/scratch/GBIF_Data/moths_uk/Noctuidae/Anarta/Anarta trifolii/2542775104.jpg\n",
      "/home/mila/a/aditya.jain/scratch/GBIF_Data/moths_uk/Noctuidae/Anarta/Anarta trifolii/1846736725.jpg\n",
      "/home/mila/a/aditya.jain/scratch/GBIF_Data/moths_uk/Noctuidae/Apamea/Apamea sordens/2542779888.jpg\n",
      "/home/mila/a/aditya.jain/scratch/GBIF_Data/moths_uk/Noctuidae/Apamea/Apamea sordens/1846823023.jpg\n",
      "/home/mila/a/aditya.jain/scratch/GBIF_Data/moths_uk/Noctuidae/Apamea/Apamea sordens/1846823040.jpg\n",
      "/home/mila/a/aditya.jain/scratch/GBIF_Data/moths_uk/Noctuidae/Megalographa/Megalographa biloba/1846739235.jpg\n",
      "/home/mila/a/aditya.jain/scratch/GBIF_Data/moths_uk/Noctuidae/Adonisea/Adonisea rivulosa/1846898095.jpg\n",
      "/home/mila/a/aditya.jain/scratch/GBIF_Data/moths_uk/Noctuidae/Diphthera/Diphthera festiva/2542743309.jpg\n",
      "/home/mila/a/aditya.jain/scratch/GBIF_Data/moths_uk/Noctuidae/Lateroligia/Lateroligia ophiogramma/1847170366.jpg\n",
      "/home/mila/a/aditya.jain/scratch/GBIF_Data/moths_uk/Noctuidae/Lacinipolia/Lacinipolia laudabilis/2542775620.jpg\n",
      "/home/mila/a/aditya.jain/scratch/GBIF_Data/moths_uk/Noctuidae/Caenurgina/Caenurgina crassiuscula/1846811666.jpg\n",
      "/home/mila/a/aditya.jain/scratch/GBIF_Data/moths_uk/Noctuidae/Caenurgina/Caenurgina crassiuscula/1846811633.jpg\n",
      "/home/mila/a/aditya.jain/scratch/GBIF_Data/moths_uk/Noctuidae/Feltia/Feltia subgothica/1847086159.jpg\n",
      "/home/mila/a/aditya.jain/scratch/GBIF_Data/moths_uk/Erebidae/Phragmatobia/Phragmatobia fuliginosa/2542780807.jpg\n",
      "/home/mila/a/aditya.jain/scratch/GBIF_Data/moths_uk/Erebidae/Hyphantria/Hyphantria cunea/2542724825.jpg\n",
      "/home/mila/a/aditya.jain/scratch/GBIF_Data/moths_uk/Erebidae/Hyphantria/Hyphantria cunea/2542724693.jpg\n",
      "/home/mila/a/aditya.jain/scratch/GBIF_Data/moths_uk/Erebidae/Tathorhynchus/Tathorhynchus exsiccata/1846849993.jpg\n",
      "/home/mila/a/aditya.jain/scratch/GBIF_Data/moths_uk/Erebidae/Idia/Idia lubricalis/1846834652.jpg\n",
      "/home/mila/a/aditya.jain/scratch/GBIF_Data/moths_uk/Erebidae/Idia/Idia lubricalis/2542737508.jpg\n",
      "/home/mila/a/aditya.jain/scratch/GBIF_Data/moths_uk/Erebidae/Idia/Idia lubricalis/1846834655.jpg\n",
      "/home/mila/a/aditya.jain/scratch/GBIF_Data/moths_uk/Erebidae/Idia/Idia lubricalis/1846834637.jpg\n",
      "/home/mila/a/aditya.jain/scratch/GBIF_Data/moths_uk/Geometridae/Idaea/Idaea dimidiata/2542749869.jpg\n",
      "/home/mila/a/aditya.jain/scratch/GBIF_Data/moths_uk/Geometridae/Pasiphila/Pasiphila rectangulata/1846928127.jpg\n",
      "/home/mila/a/aditya.jain/scratch/GBIF_Data/moths_uk/Geometridae/Plagodis/Plagodis pulveraria/1846761344.jpg\n",
      "/home/mila/a/aditya.jain/scratch/GBIF_Data/moths_uk/Geometridae/Plagodis/Plagodis pulveraria/1846761378.jpg\n",
      "/home/mila/a/aditya.jain/scratch/GBIF_Data/moths_uk/Geometridae/Venusia/Venusia cambrica/1847167638.jpg\n",
      "/home/mila/a/aditya.jain/scratch/GBIF_Data/moths_uk/Geometridae/Biston/Biston betularia/2542764044.jpg\n",
      "/home/mila/a/aditya.jain/scratch/GBIF_Data/moths_uk/Geometridae/Biston/Biston betularia/2542764399.jpg\n",
      "/home/mila/a/aditya.jain/scratch/GBIF_Data/moths_uk/Geometridae/Ectropis/Ectropis crepuscularia/2542749616.jpg\n",
      "/home/mila/a/aditya.jain/scratch/GBIF_Data/moths_uk/Geometridae/Chlorochlamys/Chlorochlamys chloroleucaria/2542774475.jpg\n",
      "/home/mila/a/aditya.jain/scratch/GBIF_Data/moths_uk/Geometridae/Dysstroma/Dysstroma truncata/1847184119.jpg\n",
      "/home/mila/a/aditya.jain/scratch/GBIF_Data/moths_uk/Geometridae/Semiothisa/Semiothisa bicolorata/1847217653.jpg\n",
      "/home/mila/a/aditya.jain/scratch/GBIF_Data/moths_uk/Geometridae/Hypagyrtis/Hypagyrtis unipunctata/1847222348.jpg\n",
      "/home/mila/a/aditya.jain/scratch/GBIF_Data/moths_uk/Sphingidae/Manduca/Manduca quinquemaculatus/1846901987.jpg\n",
      "/home/mila/a/aditya.jain/scratch/GBIF_Data/moths_uk/Cossidae/Zeuzera/Zeuzera pyrina/2542775098.jpg\n",
      "/home/mila/a/aditya.jain/scratch/GBIF_Data/moths_uk/Pantheidae/Charadra/Charadra deridens/2542765930.jpg\n",
      "/home/mila/a/aditya.jain/scratch/GBIF_Data/moths_uk/Pantheidae/Charadra/Charadra deridens/1847066793.jpg\n",
      "/home/mila/a/aditya.jain/scratch/GBIF_Data/moths_uk/Pantheidae/Charadra/Charadra deridens/1847066755.jpg\n",
      "/home/mila/a/aditya.jain/scratch/GBIF_Data/moths_uk/Pantheidae/Charadra/Charadra deridens/1847066770.jpg\n",
      "Total corrupted images are 48\n"
     ]
    }
   ],
   "source": [
    "tot_corrupt_img = 0\n",
    "\n",
    "for family in os.listdir(data_dir):\n",
    "    if os.path.isdir(data_dir + '/' + family):\n",
    "        \n",
    "        for genus in os.listdir(data_dir + family):\n",
    "            if os.path.isdir(data_dir + '/' + family + '/' + genus):\n",
    "                \n",
    "                for species in os.listdir(data_dir + family + '/' + genus):\n",
    "                    if os.path.isdir(data_dir + '/' + family + '/' + genus + '/' + species):            \n",
    "                        file_data  = glob.glob(data_dir + family + '/' + genus + '/' + species + '/*.jpg')\n",
    "                        \n",
    "                        for filename in file_data:\n",
    "                            try:\n",
    "                                Image.open(filename)  \n",
    "                            except:\n",
    "                                print(filename)\n",
    "                                tot_corrupt_img += 1\n",
    "                                os.remove(filename)\n",
    "\n",
    "print(f'Total corrupted images are {tot_corrupt_img}')"
   ]
  },
  {
   "cell_type": "code",
   "execution_count": null,
   "metadata": {},
   "outputs": [],
   "source": []
  }
 ],
 "metadata": {
  "kernelspec": {
   "display_name": "Python 3",
   "language": "python",
   "name": "python3"
  },
  "language_info": {
   "codemirror_mode": {
    "name": "ipython",
    "version": 3
   },
   "file_extension": ".py",
   "mimetype": "text/x-python",
   "name": "python",
   "nbconvert_exporter": "python",
   "pygments_lexer": "ipython3",
   "version": "3.7.4"
  }
 },
 "nbformat": 4,
 "nbformat_minor": 4
}
