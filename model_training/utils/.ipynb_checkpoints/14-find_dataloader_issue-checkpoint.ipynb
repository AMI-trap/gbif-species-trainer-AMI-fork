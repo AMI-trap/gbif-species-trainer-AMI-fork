{
 "cells": [
  {
   "cell_type": "code",
   "execution_count": 7,
   "metadata": {},
   "outputs": [],
   "source": [
    "\"\"\"\n",
    "Author        : Aditya Jain\n",
    "Date Started  : June 22, 2022\n",
    "About         : Helps find data loading issue for some images\n",
    "\"\"\"\n",
    "import os\n",
    "import glob\n",
    "from PIL import Image\n",
    "from torchvision import transforms, utils\n",
    "import torchvision.models as torchmodels\n",
    "import torch\n",
    "from torch.utils.data import Dataset, DataLoader\n",
    "from torch import nn\n",
    "from torchsummary import summary\n",
    "\n",
    "from mothdataset import MOTHDataset\n",
    "\n",
    "root_dir     = '/home/mila/a/aditya.jain/scratch/GBIF_Data/moths_uk/'\n",
    "train_set    = '/home/mila/a/aditya.jain/mothAI/classification_moths/data/01-uk-train-split.csv'\n",
    "label_list   = '/home/mila/a/aditya.jain/mothAI/classification_moths/data/uk_numeric_labels.json'\n",
    "image_resize = 224\n",
    "batch_size   = 64"
   ]
  },
  {
   "cell_type": "code",
   "execution_count": 8,
   "metadata": {},
   "outputs": [],
   "source": [
    "train_transformer = transforms.Compose([\n",
    "                        transforms.Resize((image_resize, image_resize)),              # resize the image to 300x300 \n",
    "                        transforms.ToTensor(),\n",
    "                        transforms.RandomHorizontalFlip()])\n",
    "train_data        = MOTHDataset(root_dir, train_set, label_list, train_transformer)\n",
    "train_dataloader  = DataLoader(train_data,batch_size=batch_size, shuffle=True)"
   ]
  },
  {
   "cell_type": "code",
   "execution_count": null,
   "metadata": {},
   "outputs": [],
   "source": [
    "for image_batch, label_batch in train_dataloader:    \n",
    "    pass"
   ]
  }
 ],
 "metadata": {
  "kernelspec": {
   "display_name": "Python 3 (milamoth)",
   "language": "python",
   "name": "milamoth"
  },
  "language_info": {
   "codemirror_mode": {
    "name": "ipython",
    "version": 3
   },
   "file_extension": ".py",
   "mimetype": "text/x-python",
   "name": "python",
   "nbconvert_exporter": "python",
   "pygments_lexer": "ipython3",
   "version": "3.7.10"
  }
 },
 "nbformat": 4,
 "nbformat_minor": 4
}
