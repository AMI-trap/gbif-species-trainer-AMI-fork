{
 "cells": [
  {
   "cell_type": "code",
   "execution_count": null,
   "id": "aba2b634-8294-4a1e-8f62-e7e168d79190",
   "metadata": {},
   "outputs": [],
   "source": []
  }
 ],
 "metadata": {
  "language_info": {
   "name": ""
  }
 },
 "nbformat": 4,
 "nbformat_minor": 5
}
